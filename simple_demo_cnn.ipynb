{
  "nbformat": 4,
  "nbformat_minor": 0,
  "metadata": {
    "colab": {
      "provenance": [],
      "authorship_tag": "ABX9TyM0l7A7/5bk5jSNNaGkWyZU"
    },
    "kernelspec": {
      "name": "python3",
      "display_name": "Python 3"
    },
    "language_info": {
      "name": "python"
    }
  },
  "cells": [
    {
      "cell_type": "markdown",
      "source": [
        "Importing Libraries"
      ],
      "metadata": {
        "id": "3XlVFjwKJvc-"
      }
    },
    {
      "cell_type": "code",
      "source": [
        "import tensorflow as tf\n",
        "from tensorflow.keras.layers import Input, Dense, Conv2D, MaxPooling2D, Flatten, Dropout\n",
        "from keras.models import Sequential, Model"
      ],
      "metadata": {
        "id": "Vv8nJ3giJFOs"
      },
      "execution_count": null,
      "outputs": []
    },
    {
      "cell_type": "code",
      "source": [
        "model_cnn = Sequential([\n",
        "    Conv2D(64, 3, input_shape=(128,128,1), use_bias=True ),\n",
        "    MaxPooling2D(pool_size=4),\n",
        "    Flatten(),\n",
        "    Dropout(0.5),\n",
        "    Dense(1, activation='softmax')\n",
        "])"
      ],
      "metadata": {
        "id": "UzDK-4sxJGFf"
      },
      "execution_count": null,
      "outputs": []
    },
    {
      "cell_type": "code",
      "source": [
        "model_cnn.summary()"
      ],
      "metadata": {
        "colab": {
          "base_uri": "https://localhost:8080/"
        },
        "id": "uJ2a4omtJI3s",
        "outputId": "d1fb703d-baf1-4d2c-ba79-cba8ca239a8f"
      },
      "execution_count": null,
      "outputs": [
        {
          "output_type": "stream",
          "name": "stdout",
          "text": [
            "Model: \"sequential\"\n",
            "_________________________________________________________________\n",
            " Layer (type)                Output Shape              Param #   \n",
            "=================================================================\n",
            " conv2d (Conv2D)             (None, 126, 126, 64)      640       \n",
            "                                                                 \n",
            " max_pooling2d (MaxPooling2  (None, 31, 31, 64)        0         \n",
            " D)                                                              \n",
            "                                                                 \n",
            " flatten (Flatten)           (None, 61504)             0         \n",
            "                                                                 \n",
            " dropout (Dropout)           (None, 61504)             0         \n",
            "                                                                 \n",
            " dense (Dense)               (None, 1)                 61505     \n",
            "                                                                 \n",
            "=================================================================\n",
            "Total params: 62145 (242.75 KB)\n",
            "Trainable params: 62145 (242.75 KB)\n",
            "Non-trainable params: 0 (0.00 Byte)\n",
            "_________________________________________________________________\n"
          ]
        }
      ]
    },
    {
      "cell_type": "code",
      "source": [
        "model_cnn.save('simple_cnn.h5')"
      ],
      "metadata": {
        "colab": {
          "base_uri": "https://localhost:8080/"
        },
        "id": "JPtzxdGGJKeD",
        "outputId": "97ae6c53-7f30-4010-b59e-8c4a65f3182c"
      },
      "execution_count": null,
      "outputs": [
        {
          "output_type": "stream",
          "name": "stderr",
          "text": [
            "/usr/local/lib/python3.10/dist-packages/keras/src/engine/training.py:3103: UserWarning: You are saving your model as an HDF5 file via `model.save()`. This file format is considered legacy. We recommend using instead the native Keras format, e.g. `model.save('my_model.keras')`.\n",
            "  saving_api.save_model(\n",
            "WARNING:tensorflow:Compiled the loaded model, but the compiled metrics have yet to be built. `model.compile_metrics` will be empty until you train or evaluate the model.\n"
          ]
        }
      ]
    },
    {
      "cell_type": "code",
      "source": [
        "input_shape = (4, 28, 28, 3)"
      ],
      "metadata": {
        "id": "sYEab24CJL_K"
      },
      "execution_count": null,
      "outputs": []
    },
    {
      "cell_type": "code",
      "source": [
        "x = tf.random.normal(input_shape)"
      ],
      "metadata": {
        "id": "50ygGybvJOCc"
      },
      "execution_count": null,
      "outputs": []
    },
    {
      "cell_type": "code",
      "source": [
        "x.shape"
      ],
      "metadata": {
        "id": "BPSQ8G3oJOvh"
      },
      "execution_count": null,
      "outputs": []
    },
    {
      "cell_type": "code",
      "source": [
        "input_shape[1:]"
      ],
      "metadata": {
        "id": "wAK8ytT-JQQC"
      },
      "execution_count": null,
      "outputs": []
    },
    {
      "cell_type": "code",
      "source": [
        "y = Conv2D(2, 2, activation='relu', input_shape=input_shape[1:])(x)\n",
        "#y = Conv2D(2, 3, activation='relu', input_shape=input_shape[1:])(x)\n",
        "#y = Conv2D(2, 4, activation='relu', input_shape=input_shape[1:])(x)\n",
        "#y = Conv2D(2, [3,2], activation='relu', input_shape=input_shape[1:])(x)\n"
      ],
      "metadata": {
        "id": "CWpAU4XoJRzo"
      },
      "execution_count": null,
      "outputs": []
    },
    {
      "cell_type": "code",
      "source": [
        "y.shape"
      ],
      "metadata": {
        "colab": {
          "base_uri": "https://localhost:8080/"
        },
        "id": "hhm5MYCIJUNX",
        "outputId": "bdd81ea6-b5f4-4473-82f3-2d0e45458908"
      },
      "execution_count": null,
      "outputs": [
        {
          "output_type": "execute_result",
          "data": {
            "text/plain": [
              "TensorShape([4, 27, 27, 2])"
            ]
          },
          "metadata": {},
          "execution_count": 10
        }
      ]
    },
    {
      "cell_type": "code",
      "source": [
        "y[0].shape"
      ],
      "metadata": {
        "colab": {
          "base_uri": "https://localhost:8080/"
        },
        "id": "JULy4QDRJVh1",
        "outputId": "50a355fb-fa31-47c9-df1d-32369c38e2ec"
      },
      "execution_count": null,
      "outputs": [
        {
          "output_type": "execute_result",
          "data": {
            "text/plain": [
              "TensorShape([27, 27, 2])"
            ]
          },
          "metadata": {},
          "execution_count": 11
        }
      ]
    },
    {
      "cell_type": "code",
      "source": [
        "z = MaxPooling2D(pool_size=3, strides=3)(y)"
      ],
      "metadata": {
        "id": "tXcQYp7jJXHB"
      },
      "execution_count": null,
      "outputs": []
    },
    {
      "cell_type": "code",
      "source": [
        "z.shape"
      ],
      "metadata": {
        "colab": {
          "base_uri": "https://localhost:8080/"
        },
        "id": "KlN8jqeLJZEt",
        "outputId": "cc30eb16-02b7-4347-b350-ddbeb068e8ef"
      },
      "execution_count": null,
      "outputs": [
        {
          "output_type": "execute_result",
          "data": {
            "text/plain": [
              "TensorShape([4, 9, 9, 2])"
            ]
          },
          "metadata": {},
          "execution_count": 13
        }
      ]
    },
    {
      "cell_type": "code",
      "source": [
        "z[0].shape"
      ],
      "metadata": {
        "colab": {
          "base_uri": "https://localhost:8080/"
        },
        "id": "vekkniBxJZ2w",
        "outputId": "9a4d6910-61eb-461c-efb3-8d2985bf70af"
      },
      "execution_count": null,
      "outputs": [
        {
          "output_type": "execute_result",
          "data": {
            "text/plain": [
              "TensorShape([9, 9, 2])"
            ]
          },
          "metadata": {},
          "execution_count": 14
        }
      ]
    },
    {
      "cell_type": "code",
      "source": [
        "ab = Flatten()(z)"
      ],
      "metadata": {
        "id": "ZMJVSBG6Jbjy"
      },
      "execution_count": null,
      "outputs": []
    },
    {
      "cell_type": "code",
      "source": [
        "ab.shape"
      ],
      "metadata": {
        "colab": {
          "base_uri": "https://localhost:8080/"
        },
        "id": "MlDQSmGZJdNT",
        "outputId": "e67e1a88-fb5d-45b2-f0c1-13f0d2ad25a6"
      },
      "execution_count": null,
      "outputs": [
        {
          "output_type": "execute_result",
          "data": {
            "text/plain": [
              "TensorShape([4, 162])"
            ]
          },
          "metadata": {},
          "execution_count": 16
        }
      ]
    },
    {
      "cell_type": "code",
      "source": [
        "ab[0].shape"
      ],
      "metadata": {
        "colab": {
          "base_uri": "https://localhost:8080/"
        },
        "id": "4AMgX67jJfKw",
        "outputId": "d828fc74-70b5-4f6d-a7bc-fef356e94a29"
      },
      "execution_count": null,
      "outputs": [
        {
          "output_type": "execute_result",
          "data": {
            "text/plain": [
              "TensorShape([162])"
            ]
          },
          "metadata": {},
          "execution_count": 17
        }
      ]
    },
    {
      "cell_type": "code",
      "source": [
        "abz = Dropout(0.5,  noise_shape=None, seed=10)(ab)"
      ],
      "metadata": {
        "id": "sL5QUy3gJiCU"
      },
      "execution_count": null,
      "outputs": []
    },
    {
      "cell_type": "code",
      "source": [
        "abz.shape"
      ],
      "metadata": {
        "colab": {
          "base_uri": "https://localhost:8080/"
        },
        "id": "PKFinoOdJiyw",
        "outputId": "9db82f77-0820-4d2e-9b0e-e99c6f0d2ad3"
      },
      "execution_count": null,
      "outputs": [
        {
          "output_type": "execute_result",
          "data": {
            "text/plain": [
              "TensorShape([4, 162])"
            ]
          },
          "metadata": {},
          "execution_count": 19
        }
      ]
    },
    {
      "cell_type": "code",
      "source": [
        "abz[0]"
      ],
      "metadata": {
        "colab": {
          "base_uri": "https://localhost:8080/"
        },
        "id": "Y52NEk3OJkLA",
        "outputId": "5b309329-9774-4c91-83b0-22610d1e6067"
      },
      "execution_count": null,
      "outputs": [
        {
          "output_type": "execute_result",
          "data": {
            "text/plain": [
              "<tf.Tensor: shape=(162,), dtype=float32, numpy=\n",
              "array([1.7006719 , 0.84721583, 1.4905524 , 1.2639577 , 2.1336374 ,\n",
              "       0.9311424 , 0.92965597, 1.9250734 , 1.3203968 , 1.2322798 ,\n",
              "       2.5249102 , 1.5164788 , 1.7885084 , 0.7019322 , 1.2632561 ,\n",
              "       0.71780294, 2.928642  , 0.7372911 , 1.9785268 , 1.4802388 ,\n",
              "       1.2953123 , 2.5389562 , 1.7077615 , 1.4170403 , 2.5000226 ,\n",
              "       1.0770724 , 2.5256977 , 1.9792552 , 2.1763256 , 2.2909076 ,\n",
              "       2.5295444 , 1.0544974 , 0.95244765, 0.8966906 , 3.5065143 ,\n",
              "       0.95624363, 1.3315282 , 0.        , 3.3739839 , 2.2019677 ,\n",
              "       1.3048316 , 2.3023481 , 3.764534  , 2.3004003 , 2.416278  ,\n",
              "       1.5015817 , 0.33956072, 1.2667838 , 1.571293  , 1.7089264 ,\n",
              "       0.32248658, 0.96154594, 1.5920677 , 1.3509374 , 1.9912541 ,\n",
              "       1.2537525 , 0.8358885 , 2.5646238 , 1.7988632 , 0.97174335,\n",
              "       1.0020282 , 2.1354074 , 0.83639467, 1.8095841 , 0.9387448 ,\n",
              "       1.9674745 , 1.0973308 , 0.9979218 , 2.5925608 , 3.7407548 ,\n",
              "       2.5274458 , 1.47813   , 0.93930334, 1.7642206 , 2.7362852 ,\n",
              "       0.9465382 , 1.502928  , 0.5479325 , 1.9703579 , 2.1712065 ,\n",
              "       2.2031553 , 1.9625502 , 2.8938103 , 1.0641125 , 0.3167157 ,\n",
              "       0.26914117, 2.6386595 , 0.6451902 , 2.7867808 , 2.9338055 ,\n",
              "       1.8670974 , 1.9775821 , 2.1878085 , 1.8513263 , 1.3608074 ,\n",
              "       0.97158355, 0.8417153 , 3.2837806 , 0.66521525, 1.5506047 ,\n",
              "       1.4402435 , 0.91155314, 1.2365394 , 1.1453544 , 1.5893798 ,\n",
              "       1.5864801 , 1.519135  , 0.86288184, 0.02367079, 1.0135965 ,\n",
              "       1.41202   , 0.62673885, 1.8434603 , 1.3144903 , 1.0703597 ,\n",
              "       1.8821307 , 1.6951442 , 2.1184955 , 0.9271181 , 1.8416063 ,\n",
              "       1.0329103 , 1.0164806 , 1.1186857 , 1.4876555 , 1.3429207 ,\n",
              "       1.2508972 , 1.279386  , 1.5085142 , 2.0417333 , 2.1930254 ,\n",
              "       1.8814167 , 2.6219244 , 2.1101174 , 0.9311293 , 2.0015395 ,\n",
              "       1.3179463 , 1.6983376 , 1.6770751 , 2.1674783 , 1.3872848 ,\n",
              "       2.035704  , 0.6011981 , 0.22787437, 2.217576  , 1.3132579 ,\n",
              "       0.95034397, 2.2068756 , 1.7571278 , 1.3443645 , 1.3536974 ,\n",
              "       1.4484501 , 2.2247224 , 0.9968555 , 0.7832836 , 1.0486368 ,\n",
              "       3.164853  , 0.56576896, 1.0686448 , 0.43855444, 0.9463622 ,\n",
              "       1.3054283 , 2.5504036 ], dtype=float32)>"
            ]
          },
          "metadata": {},
          "execution_count": 20
        }
      ]
    },
    {
      "cell_type": "code",
      "source": [
        "final = Dense(10, activation='softmax')(abz)"
      ],
      "metadata": {
        "id": "OM6lsAo7JllG"
      },
      "execution_count": null,
      "outputs": []
    },
    {
      "cell_type": "code",
      "source": [
        "final"
      ],
      "metadata": {
        "colab": {
          "base_uri": "https://localhost:8080/"
        },
        "id": "jZI6_gjlJoaS",
        "outputId": "80552caa-3c6d-44dd-b47a-daa9a0d5e3a9"
      },
      "execution_count": null,
      "outputs": [
        {
          "output_type": "execute_result",
          "data": {
            "text/plain": [
              "<tf.Tensor: shape=(4, 10), dtype=float32, numpy=\n",
              "array([[0.00872255, 0.05976781, 0.22009014, 0.10930702, 0.01670565,\n",
              "        0.02613832, 0.0176127 , 0.02363251, 0.34028998, 0.17773327],\n",
              "       [0.00147255, 0.06653058, 0.20937705, 0.10282306, 0.02483511,\n",
              "        0.1268296 , 0.00056987, 0.01467465, 0.36729535, 0.0855922 ],\n",
              "       [0.00147559, 0.04076376, 0.09908215, 0.22410156, 0.04119741,\n",
              "        0.01220924, 0.0009862 , 0.02408347, 0.19128641, 0.36481413],\n",
              "       [0.00593992, 0.03761481, 0.2876138 , 0.21331993, 0.03805625,\n",
              "        0.06011985, 0.00098581, 0.03926578, 0.2051749 , 0.11190898]],\n",
              "      dtype=float32)>"
            ]
          },
          "metadata": {},
          "execution_count": 22
        }
      ]
    },
    {
      "cell_type": "code",
      "source": [
        "final_relu = Dense(10, activation='relu')(abz)"
      ],
      "metadata": {
        "id": "Cph0dCLsJpmF"
      },
      "execution_count": null,
      "outputs": []
    },
    {
      "cell_type": "code",
      "source": [
        "final_relu"
      ],
      "metadata": {
        "colab": {
          "base_uri": "https://localhost:8080/"
        },
        "id": "-hfjWVhhJrh8",
        "outputId": "fd325568-29e1-41fc-d954-924601ac22aa"
      },
      "execution_count": null,
      "outputs": [
        {
          "output_type": "execute_result",
          "data": {
            "text/plain": [
              "<tf.Tensor: shape=(4, 10), dtype=float32, numpy=\n",
              "array([[0.        , 0.        , 0.        , 0.        , 2.7466533 ,\n",
              "        2.6692245 , 1.4230039 , 0.        , 0.        , 0.        ],\n",
              "       [0.        , 0.35345748, 0.        , 0.        , 0.8550787 ,\n",
              "        2.6555407 , 2.8982127 , 0.        , 2.8687637 , 0.        ],\n",
              "       [0.        , 1.2161232 , 0.        , 1.0430071 , 1.5173734 ,\n",
              "        2.288494  , 2.1045606 , 0.        , 1.4757283 , 0.        ],\n",
              "       [0.        , 0.        , 0.        , 0.        , 2.69015   ,\n",
              "        3.023362  , 2.11029   , 0.16210069, 1.2733552 , 0.        ]],\n",
              "      dtype=float32)>"
            ]
          },
          "metadata": {},
          "execution_count": 24
        }
      ]
    }
  ]
}