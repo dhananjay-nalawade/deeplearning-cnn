{
  "nbformat": 4,
  "nbformat_minor": 0,
  "metadata": {
    "colab": {
      "name": "Simple_CNN_convolution.ipynb",
      "provenance": []
    },
    "kernelspec": {
      "name": "python3",
      "display_name": "Python 3"
    },
    "language_info": {
      "name": "python"
    }
  },
  "cells": [
    {
      "cell_type": "code",
      "execution_count": null,
      "metadata": {
        "id": "S5nlrkwO_r-9"
      },
      "outputs": [],
      "source": [
        "import tensorflow as tf\n",
        "from tensorflow.keras.layers import Input, Dense, Conv2D, MaxPooling2D, Flatten, Dropout\n",
        "from keras.models import Sequential, Model"
      ]
    },
    {
      "cell_type": "code",
      "source": [
        "model_cnn = Sequential([\n",
        "    Conv2D(64, 3, input_shape=(128,128,1), use_bias=True ),\n",
        "    MaxPooling2D(pool_size=4),\n",
        "    Flatten(),\n",
        "    Dropout(0.5),\n",
        "    Dense(1, activation='softmax')\n",
        "])"
      ],
      "metadata": {
        "id": "xI4WpEF5_2Au"
      },
      "execution_count": null,
      "outputs": []
    },
    {
      "cell_type": "code",
      "source": [
        "model_cnn.summary()"
      ],
      "metadata": {
        "id": "HI83ps_m_5mh"
      },
      "execution_count": null,
      "outputs": []
    },
    {
      "cell_type": "code",
      "source": [
        "model_cnn.save('simple_cnn.h5')"
      ],
      "metadata": {
        "id": "NJRA-LcadpMW"
      },
      "execution_count": null,
      "outputs": []
    },
    {
      "cell_type": "code",
      "source": [
        "input_shape = (4, 28, 28, 3)"
      ],
      "metadata": {
        "id": "Ft_WfNNp_6LT"
      },
      "execution_count": null,
      "outputs": []
    },
    {
      "cell_type": "code",
      "source": [
        "x = tf.random.normal(input_shape)"
      ],
      "metadata": {
        "id": "XMWAHKteBzvz"
      },
      "execution_count": null,
      "outputs": []
    },
    {
      "cell_type": "code",
      "source": [
        "x.shape"
      ],
      "metadata": {
        "colab": {
          "base_uri": "https://localhost:8080/"
        },
        "id": "txqo7lcmVCtq",
        "outputId": "9e787240-353c-4b9d-e4dd-c7a6071a8bc7"
      },
      "execution_count": null,
      "outputs": [
        {
          "output_type": "execute_result",
          "data": {
            "text/plain": [
              "TensorShape([4, 28, 28, 3])"
            ]
          },
          "metadata": {},
          "execution_count": 6
        }
      ]
    },
    {
      "cell_type": "code",
      "source": [
        "input_shape[1:]"
      ],
      "metadata": {
        "colab": {
          "base_uri": "https://localhost:8080/"
        },
        "id": "i_2x8g8UCGTl",
        "outputId": "f1160d96-a245-45e4-cecd-18337e31b309"
      },
      "execution_count": null,
      "outputs": [
        {
          "output_type": "execute_result",
          "data": {
            "text/plain": [
              "(28, 28, 3)"
            ]
          },
          "metadata": {},
          "execution_count": 7
        }
      ]
    },
    {
      "cell_type": "code",
      "source": [
        "y = Conv2D(2, 2, activation='relu', input_shape=input_shape[1:])(x)\n",
        "#y = Conv2D(2, 3, activation='relu', input_shape=input_shape[1:])(x)\n",
        "#y = Conv2D(2, 4, activation='relu', input_shape=input_shape[1:])(x)\n",
        "#y = Conv2D(2, [3,2], activation='relu', input_shape=input_shape[1:])(x)\n"
      ],
      "metadata": {
        "id": "BoFEIuJNB2JD"
      },
      "execution_count": null,
      "outputs": []
    },
    {
      "cell_type": "code",
      "source": [
        "y.shape"
      ],
      "metadata": {
        "colab": {
          "base_uri": "https://localhost:8080/"
        },
        "id": "WSAmnP5OB4r8",
        "outputId": "e147ccbf-4fd2-41a6-8e4e-a6809282dd01"
      },
      "execution_count": null,
      "outputs": [
        {
          "output_type": "execute_result",
          "data": {
            "text/plain": [
              "TensorShape([4, 27, 27, 2])"
            ]
          },
          "metadata": {},
          "execution_count": 18
        }
      ]
    },
    {
      "cell_type": "code",
      "source": [
        "y[0].shape"
      ],
      "metadata": {
        "colab": {
          "base_uri": "https://localhost:8080/"
        },
        "id": "y7X1RkBoQexZ",
        "outputId": "7cff77b8-b9e9-4fdc-bb6a-562ef7d6719f"
      },
      "execution_count": null,
      "outputs": [
        {
          "output_type": "execute_result",
          "data": {
            "text/plain": [
              "TensorShape([27, 27, 2])"
            ]
          },
          "metadata": {},
          "execution_count": 19
        }
      ]
    },
    {
      "cell_type": "code",
      "source": [
        "z = MaxPooling2D(pool_size=3, strides=3)(y)"
      ],
      "metadata": {
        "id": "NOExHnmwDDN1"
      },
      "execution_count": null,
      "outputs": []
    },
    {
      "cell_type": "code",
      "source": [
        "z.shape"
      ],
      "metadata": {
        "colab": {
          "base_uri": "https://localhost:8080/"
        },
        "id": "Tg5prbZeMMJQ",
        "outputId": "c75c50c8-bc2b-4ad1-feff-6409576f8e2e"
      },
      "execution_count": null,
      "outputs": [
        {
          "output_type": "execute_result",
          "data": {
            "text/plain": [
              "TensorShape([4, 9, 9, 2])"
            ]
          },
          "metadata": {},
          "execution_count": 23
        }
      ]
    },
    {
      "cell_type": "code",
      "source": [
        "z[0].shape"
      ],
      "metadata": {
        "colab": {
          "base_uri": "https://localhost:8080/"
        },
        "id": "YA9pfyqCQgy1",
        "outputId": "0cfc561c-139c-47c0-e363-cf7d6f74406d"
      },
      "execution_count": null,
      "outputs": [
        {
          "output_type": "execute_result",
          "data": {
            "text/plain": [
              "TensorShape([9, 9, 2])"
            ]
          },
          "metadata": {},
          "execution_count": 32
        }
      ]
    },
    {
      "cell_type": "code",
      "source": [
        "ab = Flatten()(z)"
      ],
      "metadata": {
        "id": "AUw4y5dUDsFW"
      },
      "execution_count": null,
      "outputs": []
    },
    {
      "cell_type": "code",
      "source": [
        "ab.shape"
      ],
      "metadata": {
        "colab": {
          "base_uri": "https://localhost:8080/"
        },
        "id": "Cv5DYemqDs3v",
        "outputId": "1a08bc63-5800-498a-d45b-429554f8b9e8"
      },
      "execution_count": null,
      "outputs": [
        {
          "output_type": "execute_result",
          "data": {
            "text/plain": [
              "TensorShape([4, 162])"
            ]
          },
          "metadata": {},
          "execution_count": 26
        }
      ]
    },
    {
      "cell_type": "code",
      "source": [
        "ab[0].shape"
      ],
      "metadata": {
        "colab": {
          "base_uri": "https://localhost:8080/"
        },
        "id": "ROj3CGP7QT4A",
        "outputId": "2c6243e1-7808-488a-c7be-99ca289e64df"
      },
      "execution_count": null,
      "outputs": [
        {
          "output_type": "execute_result",
          "data": {
            "text/plain": [
              "TensorShape([162])"
            ]
          },
          "metadata": {},
          "execution_count": 33
        }
      ]
    },
    {
      "cell_type": "code",
      "source": [
        "abz = Dropout(0.5,  noise_shape=None, seed=10)(ab)"
      ],
      "metadata": {
        "id": "etzePy42MB6m"
      },
      "execution_count": null,
      "outputs": []
    },
    {
      "cell_type": "code",
      "source": [
        "abz.shape"
      ],
      "metadata": {
        "colab": {
          "base_uri": "https://localhost:8080/"
        },
        "id": "k1bOCHzTP9Rv",
        "outputId": "b4a5444d-fa6a-43c0-985d-b5399de33d19"
      },
      "execution_count": null,
      "outputs": [
        {
          "output_type": "execute_result",
          "data": {
            "text/plain": [
              "TensorShape([4, 162])"
            ]
          },
          "metadata": {},
          "execution_count": 35
        }
      ]
    },
    {
      "cell_type": "code",
      "source": [
        "abz[0]"
      ],
      "metadata": {
        "id": "2B1Z_2eaQPU_"
      },
      "execution_count": null,
      "outputs": []
    },
    {
      "cell_type": "code",
      "source": [
        "final = Dense(10, activation='softmax')(abz)"
      ],
      "metadata": {
        "id": "dbYNAs3LQRF5"
      },
      "execution_count": null,
      "outputs": []
    },
    {
      "cell_type": "code",
      "source": [
        "final"
      ],
      "metadata": {
        "id": "WXDqZ9GbS9AK"
      },
      "execution_count": null,
      "outputs": []
    },
    {
      "cell_type": "code",
      "source": [
        "final_relu = Dense(10, activation='relu')(abz)"
      ],
      "metadata": {
        "id": "9_T8vfJRS-NC"
      },
      "execution_count": null,
      "outputs": []
    },
    {
      "cell_type": "code",
      "source": [
        "final_relu"
      ],
      "metadata": {
        "id": "IIf4NkabTLBH"
      },
      "execution_count": null,
      "outputs": []
    }
  ]
}